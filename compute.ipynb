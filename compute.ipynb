{
 "cells": [
  {
   "cell_type": "code",
   "execution_count": null,
   "metadata": {},
   "outputs": [],
   "source": [
    "import barbeque as bq\n",
    "import numpy as np\n",
    "\n",
    "# Set IBMQ API Token\n",
    "bq.IBMQ.save_account('YOUR_API_KEY', overwrite=True)\n",
    "\n",
    "provider = bq.IBMQ.load_account()\n",
    "\n",
    "angles = np.linspace(0, 2*np.pi, 360)\n",
    "\n",
    "for angle in angles:\n",
    "    circ_ab = bq.BellExperiment(5, [[0,1],[3,4]], 'IBMQ_BACKEND', 8192, 'MODE', 'AB', angle)\n",
    "    circ_ac = bq.BellExperiment(5, [[0,1],[3,4]], 'IBMQ_BACKEND', 8192, 'MODE', 'AC', angle)\n",
    "    circ_cb = bq.BellExperiment(5, [[0,1],[3,4]], 'IBMQ_BACKEND', 8192, 'MODE', 'CB', angle)\n",
    "    \n",
    "    circ_ab.run_qc()\n",
    "    circ_ab.parsing_data()\n",
    "    \n",
    "    circ_ac.run_qc()\n",
    "    circ_ac.parsing_data()\n",
    "    \n",
    "    circ_cb.run_qc()\n",
    "    circ_cb.parsing_data()"
   ]
  }
 ],
 "metadata": {
  "language_info": {
   "name": "python"
  },
  "orig_nbformat": 4
 },
 "nbformat": 4,
 "nbformat_minor": 2
}
