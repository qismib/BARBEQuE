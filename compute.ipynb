{
 "cells": [
  {
   "cell_type": "code",
   "execution_count": 1,
   "id": "accurate-oxygen",
   "metadata": {},
   "outputs": [],
   "source": [
    "import barbeque as bq\n",
    "import numpy as np\n",
    "\n",
    "# Set IBMQ API Token\n",
    "bq.IBMQ.save_account('YOUR_API_KEY', overwrite=True)\n",
    "\n",
    "provider = bq.IBMQ.load_account()\n",
    "\n",
    "angles = np.linspace(0, 2*np.pi, 360)\n",
    "\n",
    "for angle in angles:\n",
    "    circAB = bq.BellExperiment(5, [[0,1],[3,4]], 'IBMQ_BACKEND', 8192, 1, 'AB', angle)\n",
    "    circAC = bq.BellExperiment(5, [[0,1],[3,4]], 'IBMQ_BACKEND', 8192, 1, 'AC', angle)\n",
    "    circCB = bq.BellExperiment(5, [[0,1],[3,4]], 'IBMQ_BACKEND', 8192, 1, 'CB', angle)\n",
    "    \n",
    "    circAB.runQC()\n",
    "    circAB.parsingData()\n",
    "    \n",
    "    circAC.runQC()\n",
    "    circAC.parsingData()\n",
    "    \n",
    "    circCB.runQC()\n",
    "    circCB.parsingData()"
   ]
  }
 ],
 "metadata": {
  "kernelspec": {
   "display_name": "Python 3",
   "language": "python",
   "name": "python3"
  },
  "language_info": {
   "codemirror_mode": {
    "name": "ipython",
    "version": 3
   },
   "file_extension": ".py",
   "mimetype": "text/x-python",
   "name": "python",
   "nbconvert_exporter": "python",
   "pygments_lexer": "ipython3",
   "version": "3.8.5"
  }
 },
 "nbformat": 4,
 "nbformat_minor": 5
}
